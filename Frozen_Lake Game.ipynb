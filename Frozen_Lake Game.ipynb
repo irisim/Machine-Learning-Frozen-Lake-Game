{
  "nbformat": 4,
  "nbformat_minor": 0,
  "metadata": {
    "colab": {
      "provenance": []
    },
    "kernelspec": {
      "name": "python3",
      "display_name": "Python 3"
    },
    "language_info": {
      "name": "python"
    }
  },
  "cells": [
    {
      "cell_type": "markdown",
      "source": [
        "# **Implement *Frozen Lake* Game Using Q table**\n",
        "Gym Documentation:\n",
        "https://www.gymlibrary.dev/environments/toy_text/frozen_lake/\n",
        "#Game Description:\n",
        "Winter is here. You and your friends were tossing around a frisbee at the park when you made a wild throw that left the frisbee out in the middle of the lake. The water is mostly frozen, but there are a few holes where the ice has melted. If you step into one of those holes, you'll fall into the freezing water. At this time, there's an international frisbee shortage, so it's absolutely imperative that you navigate across the lake and retrieve the disc. However, the ice is slippery, so you won't always move in the direction you intend. The surface is described using a grid like the following:"
      ],
      "metadata": {
        "id": "UCK1zsZIodmZ"
      }
    },
    {
      "cell_type": "markdown",
      "source": [
        "![image.png](data:image/png;base64,iVBORw0KGgoAAAANSUhEUgAAADwAAABuCAYAAAB7unCOAAAAAXNSR0IArs4c6QAAAARnQU1BAACxjwv8YQUAAAAJcEhZcwAAFiUAABYlAUlSJPAAAAPZSURBVHhe7ZxdSFRBFMen6CEfxbckUVOhgqyV6iX7oAgCi5I2E4KIZDEJCk0jiB4iiD6fwmQxTCkstyxKCiSIksA1ilTqodTE0HpR37S3W2ec2WZvszKzXOvu2fODYXbunr3Df2fmeJ2/4yLnNyyNWCzqtIEEY4cEY4cEY4cEY8fqSSva95ZVHjosWoytLV7DboVvsszMTN6enf3Jzpw9x5487eJtlepQFWs4VctfDw2PsCNVITY+PsHbKu13WtnGDev5a3d/kuzsZaylOcwKVuSLKxaAYBM6Ig+dvMKVTm+0T1xxnKmpKefSlWvOzMwsb0N9oraeX5uPL0PDzqat2+PupQPehziI9wqjKT09Pc3a73fwUZLfPgAjC6OWkbFUXPE/Vmt44vsPPm1TGSPBMJKVFQf42lxdHGCRB53indTDKmnB1D4aOsY+9A/w9p7dZezihfOxKT1f0lKTUaKk5U6CiZKWu18r+EpOApnE1KSCJmnpCO4vZ93P50ay89FjXqcCaffgYSQY1lxjU1i0/iBHtnzfXl6nAkaC4YmmJLCO5RetiivwY6r7WVdyTzz/CdrEww4Jxg4Jxg4Jxg4Jxg4Jxg4Jxg4JTgRsqLl/H4ZSum0H3yAALl+9zk7WNfy1lSs/CzUA8fA59710MbItgXtDH7p+TLAaYbA4YB9r5POnWOl5+SLpDQDYyVTvBUXd6F8IaEpjJ+0ELxG1EeAU7NxVJlpzuF0AcB10zoMOt6vgdh4AnfMAQL9JwbfjDTBxAcBxAOdB2qcS+KxqtZo4D4lipLuh68cEWsPYIcHYIecBOyQYOyQYOyQYOyQYOyQYOyQYOyQYO8aCTawWaYPo4sCGkaCzWuBshBoDRZ5oUSGr5R9AgrFjJVhaLWqS0SWPpnBzXAwUd/IBwEZRY8qDB/lBEhV3DJyqMbVytHD/wQATq8XLQx5ktXgECcZO2gkmqwU7JBg7JBg7JBg7JBg7JBg7JBg7JFiHqQsg2+qmmyy2zoMKfFaNSdZ1ABZkhL1yHuQX0xvtY++ib2Ixx2uqWUtrm4iyw7dTGkbwRmMTKwkE2N2223F/JQ/WTk11SLTs8K3ggcFBvv9cWRH09P91+Vbw2Ng3bt5lZWWJK95gJdjUBfDCefg6OspriTvRqUnQBivB7iTzsf+99nSJLmnpbFD3/Toj92JrNS83l9cSWLdgzSbq0xTfTumcnOXcy5qcnBRXvMG3gosKC/g5pleve8QVb/CtYJjap+vreD5Idr3q8K1gANY9PHDAg4dMVjJRbtlcKqLsIOcBOyQYOyQYOyQYOyQYN4z9AmaNc6qMdwEmAAAAAElFTkSuQmCC)"
      ],
      "metadata": {
        "id": "Bjm2lGIKqGSM"
      }
    },
    {
      "cell_type": "markdown",
      "source": [
        "This grid is our environment where S is the agent's starting point, and it's safe. F represents the frozen surface and is also safe. H represents a hole, and if our agent steps in a hole in the middle of a frozen lake, well, that's not good. Finally, G represents the goal, which is the space on the grid where the prized frisbee is located.\n",
        "\n",
        "The agent can navigate left, right, up, and down, and the episode ends when the agent reaches the goal or falls in a hole. It receives a reward of one if it reaches the goal, and zero otherwise."
      ],
      "metadata": {
        "id": "s1Tu45RcqSKq"
      }
    },
    {
      "cell_type": "code",
      "source": [
        "pip install gymnasium"
      ],
      "metadata": {
        "colab": {
          "base_uri": "https://localhost:8080/"
        },
        "id": "_WWS1gqszh97",
        "outputId": "31e3cec5-fc6f-4025-af82-6c53c1156e0b"
      },
      "execution_count": 1,
      "outputs": [
        {
          "output_type": "stream",
          "name": "stdout",
          "text": [
            "Collecting gymnasium\n",
            "  Downloading gymnasium-0.29.1-py3-none-any.whl (953 kB)\n",
            "\u001b[2K     \u001b[90m━━━━━━━━━━━━━━━━━━━━━━━━━━━━━━━━━━━━━━━━\u001b[0m \u001b[32m953.9/953.9 kB\u001b[0m \u001b[31m7.6 MB/s\u001b[0m eta \u001b[36m0:00:00\u001b[0m\n",
            "\u001b[?25hRequirement already satisfied: numpy>=1.21.0 in /usr/local/lib/python3.10/dist-packages (from gymnasium) (1.23.5)\n",
            "Requirement already satisfied: cloudpickle>=1.2.0 in /usr/local/lib/python3.10/dist-packages (from gymnasium) (2.2.1)\n",
            "Requirement already satisfied: typing-extensions>=4.3.0 in /usr/local/lib/python3.10/dist-packages (from gymnasium) (4.5.0)\n",
            "Collecting farama-notifications>=0.0.1 (from gymnasium)\n",
            "  Downloading Farama_Notifications-0.0.4-py3-none-any.whl (2.5 kB)\n",
            "Installing collected packages: farama-notifications, gymnasium\n",
            "Successfully installed farama-notifications-0.0.4 gymnasium-0.29.1\n"
          ]
        }
      ]
    },
    {
      "cell_type": "code",
      "execution_count": 2,
      "metadata": {
        "id": "zWSzuVeCp_qX"
      },
      "outputs": [],
      "source": [
        "import numpy as np\n",
        "import gymnasium as gym\n",
        "import random\n",
        "import time\n",
        "from IPython.display import clear_output"
      ]
    },
    {
      "cell_type": "markdown",
      "source": [
        "#Create environment"
      ],
      "metadata": {
        "id": "UFRPdhLmo1Oe"
      }
    },
    {
      "cell_type": "code",
      "source": [
        "env = gym.make('FrozenLake-v1', render_mode='ansi')"
      ],
      "metadata": {
        "id": "XTveJPkmqJpI"
      },
      "execution_count": 3,
      "outputs": []
    },
    {
      "cell_type": "markdown",
      "source": [
        "access action space size, state space size and create empty Q table"
      ],
      "metadata": {
        "id": "QdbV1NWQpAaG"
      }
    },
    {
      "cell_type": "code",
      "source": [
        "action_space_size = env.action_space.n\n",
        "state_space_size = env.observation_space.n\n",
        "\n",
        "q_table = np.zeros((state_space_size, action_space_size))"
      ],
      "metadata": {
        "id": "sxC9QrVKqPYQ"
      },
      "execution_count": 4,
      "outputs": []
    },
    {
      "cell_type": "code",
      "source": [
        "print(q_table)"
      ],
      "metadata": {
        "colab": {
          "base_uri": "https://localhost:8080/"
        },
        "id": "MUyShXqWqR6c",
        "outputId": "eb1778f7-4a8f-4e8e-d0c0-c805970f8365"
      },
      "execution_count": 5,
      "outputs": [
        {
          "output_type": "stream",
          "name": "stdout",
          "text": [
            "[[0. 0. 0. 0.]\n",
            " [0. 0. 0. 0.]\n",
            " [0. 0. 0. 0.]\n",
            " [0. 0. 0. 0.]\n",
            " [0. 0. 0. 0.]\n",
            " [0. 0. 0. 0.]\n",
            " [0. 0. 0. 0.]\n",
            " [0. 0. 0. 0.]\n",
            " [0. 0. 0. 0.]\n",
            " [0. 0. 0. 0.]\n",
            " [0. 0. 0. 0.]\n",
            " [0. 0. 0. 0.]\n",
            " [0. 0. 0. 0.]\n",
            " [0. 0. 0. 0.]\n",
            " [0. 0. 0. 0.]\n",
            " [0. 0. 0. 0.]]\n"
          ]
        }
      ]
    },
    {
      "cell_type": "markdown",
      "source": [
        "#Setting Learning Parameters"
      ],
      "metadata": {
        "id": "ZLXSmY6frWyU"
      }
    },
    {
      "cell_type": "code",
      "source": [
        "num_episodes = 10000\n",
        "max_steps_per_episode = 100\n",
        "\n",
        "learning_rate = 0.1\n",
        "discount_rate = 0.99\n",
        "\n",
        "exploration_rate = 1\n",
        "max_exploration_rate = 1\n",
        "min_exploration_rate = 0.01\n",
        "exploration_decay_rate = 0.001"
      ],
      "metadata": {
        "id": "pDqt7cVmqUaC"
      },
      "execution_count": 6,
      "outputs": []
    },
    {
      "cell_type": "code",
      "source": [
        "rewards_all_episodes = []"
      ],
      "metadata": {
        "id": "NQb5vg-lxVOC"
      },
      "execution_count": 7,
      "outputs": []
    },
    {
      "cell_type": "markdown",
      "source": [
        "# **Q-Learning Algorithm Training Loop**\n",
        "After we observe the reward we obtained from taking the action from the previous state, we can then update the Q-value for that state-action pair in the Q-table."
      ],
      "metadata": {
        "id": "FLA1wIUUrTrs"
      }
    },
    {
      "cell_type": "markdown",
      "source": [
        "![image.png](data:image/png;base64,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)"
      ],
      "metadata": {
        "id": "ktOjgWg-rzJA"
      }
    },
    {
      "cell_type": "code",
      "source": [
        "# Q-learning algorithm\n",
        "for episode in range(num_episodes):\n",
        "    # initialize new episode params\n",
        "    state = env.reset()[0]\n",
        "    done = False\n",
        "    rewards_current_episode = 0\n",
        "\n",
        "    for step in range(max_steps_per_episode):\n",
        "\n",
        "        # Exploration-exploitation trade-off\n",
        "        exploration_rate_threshold = random.uniform(0, 1)\n",
        "        if exploration_rate_threshold > exploration_rate:\n",
        "            action = np.argmax(q_table[state,:])\n",
        "        else:\n",
        "            action = env.action_space.sample()\n",
        "\n",
        "        # Take new action\n",
        "        new_state, reward, done, truncated, info = env.step(action)\n",
        "\n",
        "        # Update Q-table for Q(s,a)\n",
        "        q_table[state, action] = q_table[state, action] * (1 - learning_rate) + \\\n",
        "          learning_rate * (reward + discount_rate * np.max(q_table[new_state, :]))\n",
        "        # Set new state\n",
        "        state = new_state\n",
        "        # Add new reward\n",
        "        rewards_current_episode += reward\n",
        "        if done == True:\n",
        "            break\n",
        "    # Exploration rate decay\n",
        "    exploration_rate = min_exploration_rate + \\\n",
        "      (max_exploration_rate - min_exploration_rate) * np.exp(-exploration_decay_rate*episode)\n",
        "    # Add current episode reward to total rewards list\n",
        "    rewards_all_episodes.append(rewards_current_episode)"
      ],
      "metadata": {
        "id": "CkY75y4IxT1-"
      },
      "execution_count": 8,
      "outputs": []
    },
    {
      "cell_type": "markdown",
      "source": [
        "# After All Episodes Complete\n",
        "After all episodes are finished, we now just calculate the average reward per thousand episodes from our list that contains the rewards for all episodes so that we can print it out and see how the rewards changed over time."
      ],
      "metadata": {
        "id": "gb46EgUvsXN3"
      }
    },
    {
      "cell_type": "code",
      "source": [
        "# Calculate and print the average reward per thousand episodes\n",
        "rewards_per_thousand_episodes = np.split(np.array(rewards_all_episodes),num_episodes/1000)\n",
        "count = 1000\n",
        "\n",
        "print(\"********Average reward per thousand episodes********\\n\")\n",
        "for r in rewards_per_thousand_episodes:\n",
        "    print(count, \": \", str(sum(r/1000)))\n",
        "    count += 1000"
      ],
      "metadata": {
        "colab": {
          "base_uri": "https://localhost:8080/"
        },
        "id": "KA1PYgD8yePo",
        "outputId": "fd012f9b-b271-407c-c364-fb0273b832c5"
      },
      "execution_count": 9,
      "outputs": [
        {
          "output_type": "stream",
          "name": "stdout",
          "text": [
            "********Average reward per thousand episodes********\n",
            "\n",
            "1000 :  0.047000000000000035\n",
            "2000 :  0.19300000000000014\n",
            "3000 :  0.3900000000000003\n",
            "4000 :  0.5670000000000004\n",
            "5000 :  0.6510000000000005\n",
            "6000 :  0.6870000000000005\n",
            "7000 :  0.6780000000000005\n",
            "8000 :  0.6580000000000005\n",
            "9000 :  0.6810000000000005\n",
            "10000 :  0.6940000000000005\n"
          ]
        }
      ]
    },
    {
      "cell_type": "markdown",
      "source": [
        "From this printout, we can see our average reward per thousand episodes did indeed progress over time.\n",
        "\n",
        "Let's take a second to understand how we can interpret these results. Our agent played 10,000 episodes. At each time step within an episode, the agent received a reward of 1 if it reached the frisbee, otherwise, it received a reward of 0. If the agent did indeed reach the frisbee, then the episode finished at that time-step.\n",
        "\n",
        "So, that means for each episode, the total reward received by the agent for the entire episode is either 1 or 0. So, for the first thousand episodes, we can interpret this score as meaning that **4.7%**\n",
        " of the time, the agent received a reward of 1 and won the episode. And by the last thousand episodes from a total of 10,000, the agent was winning **69%**\n",
        " of the time.\n",
        "\n",
        "By analyzing the grid of the game, we can see it's a lot more likely that the agent would fall in a hole or perhaps reach the max time steps than it is to reach the frisbee, so reaching the frisbee **69%**\n",
        " of the time isn't too shabby, especially since the agent had no explicit instructions to reach the frisbee. It learned that this is the correct thing to do."
      ],
      "metadata": {
        "id": "KkWIFms627a2"
      }
    },
    {
      "cell_type": "code",
      "source": [
        "# Print updated Q-table\n",
        "print(\"\\n\\n********Q-table********\\n\")\n",
        "print(q_table)"
      ],
      "metadata": {
        "colab": {
          "base_uri": "https://localhost:8080/"
        },
        "id": "yfzitpBIyjcz",
        "outputId": "1cdd1984-758b-40e8-dcec-04f6f5ee2164"
      },
      "execution_count": 10,
      "outputs": [
        {
          "output_type": "stream",
          "name": "stdout",
          "text": [
            "\n",
            "\n",
            "********Q-table********\n",
            "\n",
            "[[0.57617523 0.51179763 0.50619696 0.51292668]\n",
            " [0.35517267 0.3367263  0.22282723 0.50427996]\n",
            " [0.37896196 0.41452894 0.40819441 0.46770514]\n",
            " [0.31445764 0.31223164 0.27752479 0.45011448]\n",
            " [0.59386366 0.35983845 0.40018403 0.44517434]\n",
            " [0.         0.         0.         0.        ]\n",
            " [0.15248667 0.06961912 0.32811501 0.17051614]\n",
            " [0.         0.         0.         0.        ]\n",
            " [0.40858771 0.39588637 0.37958111 0.61569703]\n",
            " [0.40472402 0.68597851 0.43382239 0.41494606]\n",
            " [0.66545756 0.46727347 0.39905177 0.38098717]\n",
            " [0.         0.         0.         0.        ]\n",
            " [0.         0.         0.         0.        ]\n",
            " [0.38745283 0.54902846 0.76268308 0.51115552]\n",
            " [0.68715582 0.88390874 0.72242464 0.69866684]\n",
            " [0.         0.         0.         0.        ]]\n"
          ]
        }
      ]
    },
    {
      "cell_type": "markdown",
      "source": [
        "# **Let's Watch the Agent Play**\n",
        "These blocks of code are going to allow us to watch our trained agent play Frozen Lake using the knowledge it's gained from the training we completed."
      ],
      "metadata": {
        "id": "u1o6H98U39Xd"
      }
    },
    {
      "cell_type": "code",
      "source": [
        "env = gym.make('FrozenLake-v1', render_mode='rgb_array') #change to rgb view"
      ],
      "metadata": {
        "id": "TZZrb0y-eBIG"
      },
      "execution_count": 11,
      "outputs": []
    },
    {
      "cell_type": "code",
      "source": [
        "# Imports for video creation\n",
        "import cv2\n",
        "from gym.wrappers.record_video import RecordVideo\n",
        "from IPython.display import display, HTML\n",
        "import io\n",
        "import base64\n",
        "from google.colab.patches import cv2_imshow\n",
        "from moviepy.editor import VideoFileClip, AudioFileClip"
      ],
      "metadata": {
        "colab": {
          "base_uri": "https://localhost:8080/"
        },
        "id": "h-KX54nkfn_S",
        "outputId": "5a8e6e0c-92d6-4d2a-fdd6-7eb24c813049"
      },
      "execution_count": 12,
      "outputs": [
        {
          "output_type": "stream",
          "name": "stderr",
          "text": [
            "WARNING:py.warnings:/usr/local/lib/python3.10/dist-packages/moviepy/video/fx/painting.py:7: DeprecationWarning: Please use `sobel` from the `scipy.ndimage` namespace, the `scipy.ndimage.filters` namespace is deprecated.\n",
            "  from scipy.ndimage.filters import sobel\n",
            "\n"
          ]
        }
      ]
    },
    {
      "cell_type": "code",
      "source": [
        "#x = states_tryout[0] # Just checking the size of the images in future video\n",
        "#x.shape\n",
        "#print(states_tryout)"
      ],
      "metadata": {
        "colab": {
          "base_uri": "https://localhost:8080/"
        },
        "id": "3HbkE-nIguOB",
        "outputId": "5334226a-0e7c-4be6-a6ee-4c96fdd5c303"
      },
      "execution_count": 13,
      "outputs": [
        {
          "output_type": "stream",
          "name": "stderr",
          "text": [
            "WARNING:py.warnings:/usr/local/lib/python3.10/dist-packages/ipykernel/ipkernel.py:283: DeprecationWarning: `should_run_async` will not call `transform_cell` automatically in the future. Please pass the result to `transformed_cell` argument and any exception that happen during thetransform in `preprocessing_exc_tuple` in IPython 7.17 and above.\n",
            "  and should_run_async(code)\n",
            "\n"
          ]
        }
      ]
    },
    {
      "cell_type": "code",
      "source": [
        "# Create Images for winning or loosing\n",
        "image_path_fell = 'you fell.jpg'\n",
        "image_fell = cv2.imread(image_path_fell)\n",
        "image_path_goal = 'you win.jpg'\n",
        "image_goal = cv2.imread(image_path_goal)\n",
        "image_fell = cv2.resize(image_fell, (256, 256), interpolation=cv2.INTER_AREA)\n",
        "image_goal = cv2.resize(image_goal, (256, 256), interpolation=cv2.INTER_AREA)\n",
        "#cv2_imshow(image)\n"
      ],
      "metadata": {
        "id": "kDlL-RxvkRZi"
      },
      "execution_count": 15,
      "outputs": []
    },
    {
      "cell_type": "code",
      "source": [
        "##Visualise\n",
        "# Watch our agent play Frozen Lake by playing the best action\n",
        "# from each state according to the Q-table\n",
        "states_tryout = []\n",
        "for episode in range(num_episodes - 3, num_episodes):\n",
        "    # initialize new episode params\n",
        "    state = env.reset()[0]\n",
        "    done = False\n",
        "    print(\"*****EPISODE \", episode+1, \"*****\\n\\n\\n\\n\")\n",
        "    time.sleep(1)\n",
        "    for step in range(max_steps_per_episode):\n",
        "        clear_output(wait=True)\n",
        "        #print(env.render())\n",
        "        #time.sleep(0.6)\n",
        "        states_tryout.append(env.render())\n",
        "        # Choose action with highest Q-value for current state\n",
        "        action = np.argmax(q_table[state,:])\n",
        "        # Take new action\n",
        "        new_state, reward, done, truncated, info = env.step(action)\n",
        "\n",
        "        if done:\n",
        "            clear_output(wait=True)\n",
        "            states_tryout.append(env.render())\n",
        "            #print(env.render())\n",
        "            if reward == 1:\n",
        "                # Agent reached the goal and won episode\n",
        "                print(\"****You reached the goal!****\")\n",
        "                states_tryout.append(image_goal)\n",
        "                states_tryout.append(image_goal)\n",
        "                states_tryout.append(image_goal)\n",
        "                time.sleep(3)\n",
        "            else:\n",
        "                # Agent stepped in a hole and lost episode\n",
        "                print(\"****You fell through a hole!****\")\n",
        "                states_tryout.append(image_fell)\n",
        "                states_tryout.append(image_fell)\n",
        "                states_tryout.append(image_fell)\n",
        "                time.sleep(3)\n",
        "                clear_output(wait=True)\n",
        "            break\n",
        "        state = new_state"
      ],
      "metadata": {
        "colab": {
          "base_uri": "https://localhost:8080/"
        },
        "id": "fimp_wMKfEMr",
        "outputId": "187bc92c-76d7-4384-e0f2-21d31aa4d642"
      },
      "execution_count": 16,
      "outputs": [
        {
          "output_type": "stream",
          "name": "stdout",
          "text": [
            "****You reached the goal!****\n"
          ]
        }
      ]
    },
    {
      "cell_type": "code",
      "source": [
        "def creat_video(name,states_tryout):\n",
        "    #states_tryout = create_more_data( )\n",
        "\n",
        "\n",
        "    image_arrays = np.array(states_tryout)\n",
        "\n",
        "    # Define the video writer\n",
        "    fourcc = cv2.VideoWriter_fourcc(*'mp4v')\n",
        "\n",
        "    video_writer = cv2.VideoWriter('output_video_{}.mp4'.format(name), fourcc, 4.0, (image_arrays[0].shape[1], image_arrays[0].shape[0]))\n",
        "\n",
        "    # Write each frame to the video file\n",
        "    for image_array in image_arrays:\n",
        "        video_writer.write(image_array)\n",
        "\n",
        "    # Release the video writer\n",
        "    video_writer.release()\n",
        "\n",
        "    # Display the video in Colab\n",
        "    video_path = 'output_video_{}.mp4'.format(name)\n",
        "    video_file = io.open(video_path, 'r+b').read()\n",
        "    encoded = base64.b64encode(video_file)\n",
        "    HTML(data='''<video alt=\"test\" controls>\n",
        "                    <source src=\"data:video/mp4;base64,{0}\" type=\"video/mp4\" />\n",
        "                </video>'''.format(encoded.decode('ascii')))\n",
        "    return"
      ],
      "metadata": {
        "id": "XzSlTDc1fVo9"
      },
      "execution_count": 17,
      "outputs": []
    },
    {
      "cell_type": "code",
      "source": [
        "creat_video(\"test\",states_tryout)"
      ],
      "metadata": {
        "id": "_gL2GlWoiX0k"
      },
      "execution_count": 18,
      "outputs": []
    },
    {
      "cell_type": "markdown",
      "source": [
        "# Create Video with Background Music !"
      ],
      "metadata": {
        "id": "LIS0XO-j5zS2"
      }
    },
    {
      "cell_type": "code",
      "source": [
        "\n",
        "def create_video(name, states_tryout, music_path='path/to/your/music.mp3'):\n",
        "    # Convert image arrays to a video\n",
        "    image_arrays = np.array(states_tryout)\n",
        "    fourcc = cv2.VideoWriter_fourcc(*'mp4v')\n",
        "    video_writer = cv2.VideoWriter('output_video_{}.mp4'.format(name), fourcc, 4.0, (image_arrays[0].shape[1], image_arrays[0].shape[0]))\n",
        "    for image_array in image_arrays:\n",
        "        video_writer.write(image_array)\n",
        "    video_writer.release()\n",
        "\n",
        "    # Load the video clip\n",
        "    video_clip = VideoFileClip('output_video_{}.mp4'.format(name))\n",
        "\n",
        "    # Load the audio clip\n",
        "    audio_clip = AudioFileClip(music_path)\n",
        "\n",
        "    # Trim audio to match the duration of the video\n",
        "    audio_clip = audio_clip.subclip(0, video_clip.duration)\n",
        "\n",
        "    # Add the audio to the video clip\n",
        "    video_clip = video_clip.set_audio(audio_clip)\n",
        "\n",
        "    # Write the final video with audio\n",
        "    video_clip.write_videofile('output_video_with_audio_{}.mp4'.format(name), codec='libx264', audio_codec='aac')\n",
        "\n",
        "    # Display the video with audio in Colab\n",
        "    video_path = 'output_video_with_audio_{}.mp4'.format(name)\n",
        "    video_file = io.open(video_path, 'r+b').read()\n",
        "    encoded = base64.b64encode(video_file)\n",
        "    HTML(data='''<video alt=\"test\" controls>\n",
        "                    <source src=\"data:video/mp4;base64,{0}\" type=\"video/mp4\" />\n",
        "                </video>'''.format(encoded.decode('ascii')))\n",
        "\n",
        "# Example usage\n",
        "# create_video('example', states_tryout, music_path='path/to/your/music.mp3')\n"
      ],
      "metadata": {
        "id": "CFgxpO9AutAS"
      },
      "execution_count": 19,
      "outputs": []
    },
    {
      "cell_type": "code",
      "source": [
        "create_video(\"test_audio\",states_tryout,'33. Guile Stage.mp3')"
      ],
      "metadata": {
        "colab": {
          "base_uri": "https://localhost:8080/"
        },
        "id": "xhQN4W3Auxu4",
        "outputId": "d502d179-f5d6-45dc-ba08-5eebc3a3fcfa"
      },
      "execution_count": 21,
      "outputs": [
        {
          "output_type": "stream",
          "name": "stdout",
          "text": [
            "Moviepy - Building video output_video_with_audio_test_audio.mp4.\n",
            "MoviePy - Writing audio in output_video_with_audio_test_audioTEMP_MPY_wvf_snd.mp4\n"
          ]
        },
        {
          "output_type": "stream",
          "name": "stderr",
          "text": []
        },
        {
          "output_type": "stream",
          "name": "stdout",
          "text": [
            "MoviePy - Done.\n",
            "Moviepy - Writing video output_video_with_audio_test_audio.mp4\n",
            "\n"
          ]
        },
        {
          "output_type": "stream",
          "name": "stderr",
          "text": []
        },
        {
          "output_type": "stream",
          "name": "stdout",
          "text": [
            "Moviepy - Done !\n",
            "Moviepy - video ready output_video_with_audio_test_audio.mp4\n"
          ]
        }
      ]
    },
    {
      "cell_type": "code",
      "source": [
        "env.close() # Finish up and close the environment"
      ],
      "metadata": {
        "id": "WBSIHE9W2X9C"
      },
      "execution_count": 22,
      "outputs": []
    },
    {
      "cell_type": "markdown",
      "source": [
        "Sources :\n",
        "\n",
        "Reinforcement Learning: An Introduction, Second Edition by Richard S. Sutton and Andrew G. Bartow\n",
        "http://incompleteideas.net/book/RLbook2020.pdf\n",
        "\n",
        "Playing Atari with Deep Reinforcement Learning by Deep Mind Technologies\n",
        "\n",
        "https://www.cs.toronto.edu/~vmnih/docs/dqn.pdf\n",
        "\n",
        "https://deeplizard.com/course/rlcpailzrd"
      ],
      "metadata": {
        "id": "NVmAYWZd7ajk"
      }
    }
  ]
}